{
 "cells": [
  {
   "cell_type": "markdown",
   "metadata": {},
   "source": [
    "### Camera"
   ]
  },
  {
   "cell_type": "markdown",
   "metadata": {},
   "source": [
    "### Task"
   ]
  },
  {
   "cell_type": "code",
   "execution_count": 1,
   "metadata": {},
   "outputs": [
    {
     "data": {
      "text/plain": [
       "<All keys matched successfully>"
      ]
     },
     "execution_count": 1,
     "metadata": {},
     "output_type": "execute_result"
    }
   ],
   "source": [
    "#import torchvision.transforms as transforms\n",
    "\n",
    "TASK = 'object_behavior'\n",
    "CATEGORIES = ['background1','redlight','greenlight','bottle']\n",
    "DATASETS = ['A']\n",
    "\n",
    "import torch\n",
    "import torchvision\n",
    "\n",
    "#device = torch.device('cuda')\n",
    "output_dim = len(CATEGORIES)  #number of categories\n",
    "\n",
    "# RESNET 18\n",
    "model_class = torchvision.models.resnet18(pretrained=False)\n",
    "model_class.fc = torch.nn.Linear(512, output_dim)\n",
    "model_class = model_class.cuda().eval().half()\n",
    "#model_class = model_class.to(device)\n",
    "\n",
    "model_class.load_state_dict(torch.load('classification_behavior_model.pth'))\n",
    "\n",
    "\n"
   ]
  },
  {
   "cell_type": "code",
   "execution_count": 2,
   "metadata": {},
   "outputs": [],
   "source": [
    "from torch2trt import torch2trt\n",
    "\n",
    "data = torch.zeros((1, 3, 224, 224)).cuda().half()\n",
    "\n",
    "model_trt = torch2trt(model_class, [data], fp16_mode=True)"
   ]
  },
  {
   "cell_type": "code",
   "execution_count": 3,
   "metadata": {},
   "outputs": [],
   "source": [
    "torch.save(model_trt.state_dict(), 'trt_classification_behavior_model.pth.pth')"
   ]
  },
  {
   "cell_type": "code",
   "execution_count": null,
   "metadata": {},
   "outputs": [],
   "source": []
  }
 ],
 "metadata": {
  "kernelspec": {
   "display_name": "Python 3",
   "language": "python",
   "name": "python3"
  },
  "language_info": {
   "codemirror_mode": {
    "name": "ipython",
    "version": 3
   },
   "file_extension": ".py",
   "mimetype": "text/x-python",
   "name": "python",
   "nbconvert_exporter": "python",
   "pygments_lexer": "ipython3",
   "version": "3.6.9"
  }
 },
 "nbformat": 4,
 "nbformat_minor": 4
}
